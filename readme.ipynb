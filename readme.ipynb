{
 "cells": [
  {
   "cell_type": "code",
   "execution_count": 1,
   "metadata": {},
   "outputs": [],
   "source": [
    "from game import Game"
   ]
  },
  {
   "cell_type": "code",
   "execution_count": 2,
   "metadata": {},
   "outputs": [],
   "source": [
    "game_with_a_spare = (\n",
    "    (9, 1, 0),  # 12 = spare plus first ball next frame\n",
    "    (2, 3, 0),  # 5 = frame score\n",
    "    (0, 10, 0),  # 16 = all pins on second ball plus first ball next frame\n",
    "    (6, 3, 0)  # 9\n",
    ")"
   ]
  },
  {
   "cell_type": "code",
   "execution_count": 3,
   "metadata": {},
   "outputs": [],
   "source": [
    "my_game = Game(game_with_a_spare)"
   ]
  },
  {
   "cell_type": "code",
   "execution_count": 4,
   "metadata": {},
   "outputs": [
    {
     "data": {
      "text/plain": [
       "'{\"frames\": [\"[9, 1, 0]\", \"[2, 3, 0]\", \"[0, 10, 0]\", \"[6, 3, 0]\"], \"frame10ball3\": 0, \"score\": 42}'"
      ]
     },
     "execution_count": 4,
     "metadata": {},
     "output_type": "execute_result"
    }
   ],
   "source": [
    "my_game.to_json()"
   ]
  },
  {
   "cell_type": "code",
   "execution_count": 5,
   "metadata": {},
   "outputs": [
    {
     "data": {
      "text/plain": [
       "42"
      ]
     },
     "execution_count": 5,
     "metadata": {},
     "output_type": "execute_result"
    }
   ],
   "source": [
    "my_game.score()"
   ]
  },
  {
   "cell_type": "code",
   "execution_count": 6,
   "metadata": {},
   "outputs": [
    {
     "data": {
      "text/plain": [
       "'{\"frames\": [\"[9, 1, 12]\", \"[2, 3, 5]\", \"[0, 10, 16]\", \"[6, 3, 9]\"], \"frame10ball3\": 0, \"score\": 42}'"
      ]
     },
     "execution_count": 6,
     "metadata": {},
     "output_type": "execute_result"
    }
   ],
   "source": [
    "my_game.to_json()"
   ]
  },
  {
   "cell_type": "code",
   "execution_count": 7,
   "metadata": {},
   "outputs": [],
   "source": [
    "almost_perfect_game = (\n",
    "    (10, 10, 0),\n",
    "    (10, 10, 0),\n",
    "    (10, 10, 0),\n",
    "    (10, 10, 0),\n",
    "    (10, 10, 0),\n",
    "    (10, 10, 0),\n",
    "    (10, 10, 0),\n",
    "    (10, 10, 0),\n",
    "    (10, 10, 0),\n",
    "    (5, 5, 0)  # spare in the last frame\n",
    ")"
   ]
  },
  {
   "cell_type": "code",
   "execution_count": 8,
   "metadata": {},
   "outputs": [],
   "source": [
    "my_game = Game(almost_perfect_game)"
   ]
  },
  {
   "cell_type": "code",
   "execution_count": 9,
   "metadata": {},
   "outputs": [
    {
     "data": {
      "text/plain": [
       "'{\"frames\": [\"[10, 10, 0]\", \"[10, 10, 0]\", \"[10, 10, 0]\", \"[10, 10, 0]\", \"[10, 10, 0]\", \"[10, 10, 0]\", \"[10, 10, 0]\", \"[10, 10, 0]\", \"[10, 10, 0]\", \"[5, 5, 0]\"], \"frame10ball3\": 0, \"score\": 270}'"
      ]
     },
     "execution_count": 9,
     "metadata": {},
     "output_type": "execute_result"
    }
   ],
   "source": [
    "my_game.to_json()"
   ]
  },
  {
   "cell_type": "code",
   "execution_count": 10,
   "metadata": {},
   "outputs": [
    {
     "data": {
      "text/plain": [
       "270"
      ]
     },
     "execution_count": 10,
     "metadata": {},
     "output_type": "execute_result"
    }
   ],
   "source": [
    "my_game.score()"
   ]
  },
  {
   "cell_type": "code",
   "execution_count": 11,
   "metadata": {},
   "outputs": [
    {
     "data": {
      "text/plain": [
       "'{\"frames\": [\"[10, 10, 30]\", \"[10, 10, 30]\", \"[10, 10, 30]\", \"[10, 10, 30]\", \"[10, 10, 30]\", \"[10, 10, 30]\", \"[10, 10, 30]\", \"[10, 10, 30]\", \"[10, 10, 20]\", \"[5, 5, 10]\"], \"frame10ball3\": 0, \"score\": 270}'"
      ]
     },
     "execution_count": 11,
     "metadata": {},
     "output_type": "execute_result"
    }
   ],
   "source": [
    "my_game.to_json()"
   ]
  },
  {
   "cell_type": "code",
   "execution_count": 12,
   "metadata": {},
   "outputs": [],
   "source": [
    "# Let's knock them all down on in the last frame's third ball\n",
    "my_game = Game(almost_perfect_game, frame10ball3=10)"
   ]
  },
  {
   "cell_type": "code",
   "execution_count": 13,
   "metadata": {},
   "outputs": [
    {
     "data": {
      "text/plain": [
       "280"
      ]
     },
     "execution_count": 13,
     "metadata": {},
     "output_type": "execute_result"
    }
   ],
   "source": [
    "my_game.score()"
   ]
  },
  {
   "cell_type": "code",
   "execution_count": 14,
   "metadata": {},
   "outputs": [
    {
     "data": {
      "text/plain": [
       "'{\"frames\": [\"[10, 10, 30]\", \"[10, 10, 30]\", \"[10, 10, 30]\", \"[10, 10, 30]\", \"[10, 10, 30]\", \"[10, 10, 30]\", \"[10, 10, 30]\", \"[10, 10, 30]\", \"[10, 10, 20]\", \"[5, 5, 20]\"], \"frame10ball3\": 10, \"score\": 280}'"
      ]
     },
     "execution_count": 14,
     "metadata": {},
     "output_type": "execute_result"
    }
   ],
   "source": [
    "my_game.to_json()"
   ]
  },
  {
   "cell_type": "code",
   "execution_count": 15,
   "metadata": {},
   "outputs": [],
   "source": [
    "perfect_game = (\n",
    "    (10, 10, 0),\n",
    "    (10, 10, 0),\n",
    "    (10, 10, 0),\n",
    "    (10, 10, 0),\n",
    "    (10, 10, 0),\n",
    "    (10, 10, 0),\n",
    "    (10, 10, 0),\n",
    "    (10, 10, 0),\n",
    "    (10, 10, 0),\n",
    "    (10, 10, 0)\n",
    ")"
   ]
  },
  {
   "cell_type": "code",
   "execution_count": 16,
   "metadata": {},
   "outputs": [],
   "source": [
    "my_game = Game(perfect_game, frame10ball3=10)"
   ]
  },
  {
   "cell_type": "code",
   "execution_count": 17,
   "metadata": {},
   "outputs": [
    {
     "data": {
      "text/plain": [
       "300"
      ]
     },
     "execution_count": 17,
     "metadata": {},
     "output_type": "execute_result"
    }
   ],
   "source": [
    "my_game.score()"
   ]
  },
  {
   "cell_type": "code",
   "execution_count": 18,
   "metadata": {},
   "outputs": [
    {
     "data": {
      "text/plain": [
       "'{\"frames\": [\"[10, 10, 30]\", \"[10, 10, 30]\", \"[10, 10, 30]\", \"[10, 10, 30]\", \"[10, 10, 30]\", \"[10, 10, 30]\", \"[10, 10, 30]\", \"[10, 10, 30]\", \"[10, 10, 30]\", \"[10, 10, 30]\"], \"frame10ball3\": 10, \"score\": 300}'"
      ]
     },
     "execution_count": 18,
     "metadata": {},
     "output_type": "execute_result"
    }
   ],
   "source": [
    "my_game.to_json()"
   ]
  },
  {
   "cell_type": "code",
   "execution_count": null,
   "metadata": {},
   "outputs": [],
   "source": []
  }
 ],
 "metadata": {
  "kernelspec": {
   "display_name": "Python 3",
   "language": "python",
   "name": "python3"
  },
  "language_info": {
   "codemirror_mode": {
    "name": "ipython",
    "version": 3
   },
   "file_extension": ".py",
   "mimetype": "text/x-python",
   "name": "python",
   "nbconvert_exporter": "python",
   "pygments_lexer": "ipython3",
   "version": "3.7.3"
  }
 },
 "nbformat": 4,
 "nbformat_minor": 2
}
